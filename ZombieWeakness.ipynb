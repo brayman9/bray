{
  "nbformat": 4,
  "nbformat_minor": 0,
  "metadata": {
    "colab": {
      "name": "ZombieWeakness.ipynb",
      "provenance": []
    },
    "kernelspec": {
      "name": "python3",
      "display_name": "Python 3"
    },
    "language_info": {
      "name": "python"
    }
  },
  "cells": [
    {
      "cell_type": "code",
      "execution_count": null,
      "metadata": {
        "id": "C4BEDoaulpCi"
      },
      "outputs": [],
      "source": [
        ""
      ]
    },
    {
      "cell_type": "markdown",
      "source": [
        "# **zombie weakness**\n",
        "\n",
        "this python program uses different skills like listing, if-else condition and loops, user inpout functions etc.\n",
        "\n"
      ],
      "metadata": {
        "id": "RhSCsW7vl_y5"
      }
    },
    {
      "cell_type": "code",
      "source": [
        "weapons = ['ak', 'auto shot gun', 'pump shotty', 'uzi', 'p90', 'machine pistol', 'deagal', 'glock9', 'revolver', 'knife']\n",
        "zombieWeakness = 'revolver'\n",
        "print('There is a zombie apocalypse!')\n",
        "print('...')\n",
        "print('SO!')\n",
        "print('--CHOOSE YOUR WEAPON--')\n",
        "print(weapons)\n",
        "print('Type 1 to used a weapon from the list')\n",
        "print('Type 2 to pick your own')\n",
        "num = input(':')\n",
        "print('')\n",
        "print('Hurry! A Zombie is coming!')\n",
        "if num == '1':\n",
        "   one = input('Pick your weapon: ')\n",
        "elif num == '2':\n",
        "  zero = input('Pick your weaopn: ')\n",
        "if one == zombieWeakness:\n",
        "  print('Head shot! Nice.')\n",
        "else:\n",
        "  print('You missed. Game Over')\n",
        "\n",
        "\n",
        "\n",
        "\n",
        "\n",
        "\n",
        " "
      ],
      "metadata": {
        "colab": {
          "base_uri": "https://localhost:8080/",
          "height": 409
        },
        "id": "Fu2h9lACmh8g",
        "outputId": "a59509a7-2744-4706-f9fd-73ba699f735a"
      },
      "execution_count": 1,
      "outputs": [
        {
          "output_type": "stream",
          "name": "stdout",
          "text": [
            "There is a zombie apocalypse!\n",
            "...\n",
            "SO!\n",
            "--CHOOSE YOUR WEAPON--\n",
            "['ak', 'auto shot gun', 'pump shotty', 'uzi', 'p90', 'machine pistol', 'deagal', 'glock9', 'revolver', 'knife']\n",
            "Type 1 to used a weapon from the list\n",
            "Type 2 to pick your own\n",
            ":bruh\n",
            "\n",
            "Hurry! A Zombie is coming!\n"
          ]
        },
        {
          "output_type": "error",
          "ename": "NameError",
          "evalue": "ignored",
          "traceback": [
            "\u001b[0;31m---------------------------------------------------------------------------\u001b[0m",
            "\u001b[0;31mNameError\u001b[0m                                 Traceback (most recent call last)",
            "\u001b[0;32m<ipython-input-1-25aaf1bd2506>\u001b[0m in \u001b[0;36m<module>\u001b[0;34m()\u001b[0m\n\u001b[1;32m     15\u001b[0m \u001b[0;32melif\u001b[0m \u001b[0mnum\u001b[0m \u001b[0;34m==\u001b[0m \u001b[0;34m'2'\u001b[0m\u001b[0;34m:\u001b[0m\u001b[0;34m\u001b[0m\u001b[0;34m\u001b[0m\u001b[0m\n\u001b[1;32m     16\u001b[0m   \u001b[0mzero\u001b[0m \u001b[0;34m=\u001b[0m \u001b[0minput\u001b[0m\u001b[0;34m(\u001b[0m\u001b[0;34m'Pick your weaopn: '\u001b[0m\u001b[0;34m)\u001b[0m\u001b[0;34m\u001b[0m\u001b[0;34m\u001b[0m\u001b[0m\n\u001b[0;32m---> 17\u001b[0;31m \u001b[0;32mif\u001b[0m \u001b[0mone\u001b[0m \u001b[0;34m==\u001b[0m \u001b[0mzombieWeakness\u001b[0m\u001b[0;34m:\u001b[0m\u001b[0;34m\u001b[0m\u001b[0;34m\u001b[0m\u001b[0m\n\u001b[0m\u001b[1;32m     18\u001b[0m   \u001b[0mprint\u001b[0m\u001b[0;34m(\u001b[0m\u001b[0;34m'Head shot! Nice.'\u001b[0m\u001b[0;34m)\u001b[0m\u001b[0;34m\u001b[0m\u001b[0;34m\u001b[0m\u001b[0m\n\u001b[1;32m     19\u001b[0m \u001b[0;32melse\u001b[0m\u001b[0;34m:\u001b[0m\u001b[0;34m\u001b[0m\u001b[0;34m\u001b[0m\u001b[0m\n",
            "\u001b[0;31mNameError\u001b[0m: name 'one' is not defined"
          ]
        }
      ]
    },
    {
      "cell_type": "code",
      "source": [
        "]"
      ],
      "metadata": {
        "id": "gHLYhYhznhhF"
      },
      "execution_count": null,
      "outputs": []
    }
  ]
}